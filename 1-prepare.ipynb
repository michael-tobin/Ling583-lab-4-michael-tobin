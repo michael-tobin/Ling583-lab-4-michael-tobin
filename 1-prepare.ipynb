{
 "cells": [
  {
   "cell_type": "code",
   "execution_count": 1,
   "metadata": {},
   "outputs": [],
   "source": [
    "import numpy as np\n",
    "import pandas as pd\n",
    "from cytoolz import *\n",
    "from tqdm.auto import tqdm\n",
    "\n",
    "tqdm.pandas()"
   ]
  },
  {
   "cell_type": "markdown",
   "metadata": {},
   "source": [
    "---\n",
    "\n",
    "### Prepare reviews\n",
    "\n",
    "This section is that same as what we did back in Lab 1: \n",
    "\n",
    "* Load the JSON file for the hotel reviews\n",
    "* Guess the language of each review\n",
    "* Select only the ones that are in English\n",
    "* Add rating categories (Overall, etc) as new columns"
   ]
  },
  {
   "cell_type": "code",
   "execution_count": 2,
   "metadata": {},
   "outputs": [
    {
     "data": {
      "application/vnd.jupyter.widget-view+json": {
       "model_id": "c47eadef0eed4566aa23fe708346246d",
       "version_major": 2,
       "version_minor": 0
      },
      "text/plain": [
       "  0%|          | 0/878561 [00:00<?, ?it/s]"
      ]
     },
     "metadata": {},
     "output_type": "display_data"
    }
   ],
   "source": [
    "import pycld2\n",
    "\n",
    "df = pd.read_json('s3://ling583/review.json.gz', lines=True,\n",
    "                  storage_options={'anon': True})\n",
    "\n",
    "\n",
    "def guess_lang(text):\n",
    "    try:\n",
    "        reliable, _, langs = pycld2.detect(\n",
    "            text, isPlainText=True, hintLanguage='en')\n",
    "        if reliable:\n",
    "            return langs[0][0]\n",
    "    except pycld2.error as e:\n",
    "        pass\n",
    "    return np.NaN\n",
    "\n",
    "\n",
    "df['lang'] = df['text'].progress_apply(guess_lang)\n",
    "df = df[df['lang'] == 'ENGLISH'].reset_index(drop=True)\n",
    "df = pd.concat([df, pd.json_normalize(df['ratings'])], axis=1)"
   ]
  },
  {
   "cell_type": "markdown",
   "metadata": {},
   "source": [
    "Next we'll get rid of columns that we're not going to need. That makes the tables easier to read and saves a little bit of memory."
   ]
  },
  {
   "cell_type": "code",
   "execution_count": 3,
   "metadata": {},
   "outputs": [
    {
     "data": {
      "text/html": [
       "<div>\n",
       "<style scoped>\n",
       "    .dataframe tbody tr th:only-of-type {\n",
       "        vertical-align: middle;\n",
       "    }\n",
       "\n",
       "    .dataframe tbody tr th {\n",
       "        vertical-align: top;\n",
       "    }\n",
       "\n",
       "    .dataframe thead th {\n",
       "        text-align: right;\n",
       "    }\n",
       "</style>\n",
       "<table border=\"1\" class=\"dataframe\">\n",
       "  <thead>\n",
       "    <tr style=\"text-align: right;\">\n",
       "      <th></th>\n",
       "      <th>title</th>\n",
       "      <th>text</th>\n",
       "      <th>date_stayed</th>\n",
       "      <th>offering_id</th>\n",
       "      <th>date</th>\n",
       "      <th>service</th>\n",
       "      <th>cleanliness</th>\n",
       "      <th>overall</th>\n",
       "      <th>value</th>\n",
       "      <th>location</th>\n",
       "      <th>sleep_quality</th>\n",
       "      <th>rooms</th>\n",
       "    </tr>\n",
       "  </thead>\n",
       "  <tbody>\n",
       "    <tr>\n",
       "      <th>0</th>\n",
       "      <td>“Truly is \"Jewel of the Upper Wets Side\"”</td>\n",
       "      <td>Stayed in a king suite for 11 nights and yes i...</td>\n",
       "      <td>December 2012</td>\n",
       "      <td>93338</td>\n",
       "      <td>2012-12-17</td>\n",
       "      <td>5.0</td>\n",
       "      <td>5.0</td>\n",
       "      <td>5.0</td>\n",
       "      <td>5.0</td>\n",
       "      <td>5.0</td>\n",
       "      <td>5.0</td>\n",
       "      <td>5.0</td>\n",
       "    </tr>\n",
       "    <tr>\n",
       "      <th>1</th>\n",
       "      <td>“My home away from home!”</td>\n",
       "      <td>On every visit to NYC, the Hotel Beacon is the...</td>\n",
       "      <td>December 2012</td>\n",
       "      <td>93338</td>\n",
       "      <td>2012-12-17</td>\n",
       "      <td>5.0</td>\n",
       "      <td>5.0</td>\n",
       "      <td>5.0</td>\n",
       "      <td>5.0</td>\n",
       "      <td>5.0</td>\n",
       "      <td>5.0</td>\n",
       "      <td>5.0</td>\n",
       "    </tr>\n",
       "    <tr>\n",
       "      <th>2</th>\n",
       "      <td>“Great Stay”</td>\n",
       "      <td>This is a great property in Midtown. We two di...</td>\n",
       "      <td>December 2012</td>\n",
       "      <td>1762573</td>\n",
       "      <td>2012-12-18</td>\n",
       "      <td>4.0</td>\n",
       "      <td>5.0</td>\n",
       "      <td>4.0</td>\n",
       "      <td>4.0</td>\n",
       "      <td>5.0</td>\n",
       "      <td>4.0</td>\n",
       "      <td>4.0</td>\n",
       "    </tr>\n",
       "    <tr>\n",
       "      <th>3</th>\n",
       "      <td>“Modern Convenience”</td>\n",
       "      <td>The Andaz is a nice hotel in a central locatio...</td>\n",
       "      <td>August 2012</td>\n",
       "      <td>1762573</td>\n",
       "      <td>2012-12-17</td>\n",
       "      <td>5.0</td>\n",
       "      <td>5.0</td>\n",
       "      <td>4.0</td>\n",
       "      <td>5.0</td>\n",
       "      <td>5.0</td>\n",
       "      <td>5.0</td>\n",
       "      <td>5.0</td>\n",
       "    </tr>\n",
       "    <tr>\n",
       "      <th>4</th>\n",
       "      <td>“Its the best of the Andaz Brand in the US....”</td>\n",
       "      <td>I have stayed at each of the US Andaz properti...</td>\n",
       "      <td>December 2012</td>\n",
       "      <td>1762573</td>\n",
       "      <td>2012-12-17</td>\n",
       "      <td>4.0</td>\n",
       "      <td>5.0</td>\n",
       "      <td>4.0</td>\n",
       "      <td>3.0</td>\n",
       "      <td>5.0</td>\n",
       "      <td>5.0</td>\n",
       "      <td>5.0</td>\n",
       "    </tr>\n",
       "  </tbody>\n",
       "</table>\n",
       "</div>"
      ],
      "text/plain": [
       "                                             title  \\\n",
       "0        “Truly is \"Jewel of the Upper Wets Side\"”   \n",
       "1                        “My home away from home!”   \n",
       "2                                     “Great Stay”   \n",
       "3                             “Modern Convenience”   \n",
       "4  “Its the best of the Andaz Brand in the US....”   \n",
       "\n",
       "                                                text    date_stayed  \\\n",
       "0  Stayed in a king suite for 11 nights and yes i...  December 2012   \n",
       "1  On every visit to NYC, the Hotel Beacon is the...  December 2012   \n",
       "2  This is a great property in Midtown. We two di...  December 2012   \n",
       "3  The Andaz is a nice hotel in a central locatio...    August 2012   \n",
       "4  I have stayed at each of the US Andaz properti...  December 2012   \n",
       "\n",
       "   offering_id       date  service  cleanliness  overall  value  location  \\\n",
       "0        93338 2012-12-17      5.0          5.0      5.0    5.0       5.0   \n",
       "1        93338 2012-12-17      5.0          5.0      5.0    5.0       5.0   \n",
       "2      1762573 2012-12-18      4.0          5.0      4.0    4.0       5.0   \n",
       "3      1762573 2012-12-17      5.0          5.0      4.0    5.0       5.0   \n",
       "4      1762573 2012-12-17      4.0          5.0      4.0    3.0       5.0   \n",
       "\n",
       "   sleep_quality  rooms  \n",
       "0            5.0    5.0  \n",
       "1            5.0    5.0  \n",
       "2            4.0    4.0  \n",
       "3            5.0    5.0  \n",
       "4            5.0    5.0  "
      ]
     },
     "execution_count": 3,
     "metadata": {},
     "output_type": "execute_result"
    }
   ],
   "source": [
    "df = df.drop(['ratings', 'author', 'num_helpful_votes', 'via_mobile', 'lang', 'id', 'check_in_front_desk',\n",
    "              'business_service_(e_g_internet_access)'], axis=1)\n",
    "df.head()"
   ]
  },
  {
   "cell_type": "markdown",
   "metadata": {},
   "source": [
    "---\n",
    "\n",
    "### Add hotel info\n",
    "\n",
    "The data we looked at in the first lab included the text of the reviews but almost nothing about what hotels they were reviews of. In the data in `review.json.gz`, the column `offering_id` is a code number identifying the hotel indexed to data in `offering.json.gz`. So first we'll load that file:"
   ]
  },
  {
   "cell_type": "code",
   "execution_count": 4,
   "metadata": {},
   "outputs": [],
   "source": [
    "offering = pd.read_json('s3://ling583/offering.json.gz',\n",
    "                        lines=True, storage_options={'anon': True})"
   ]
  },
  {
   "cell_type": "markdown",
   "metadata": {},
   "source": [
    "And move some address info into it's own columns:"
   ]
  },
  {
   "cell_type": "code",
   "execution_count": 5,
   "metadata": {},
   "outputs": [],
   "source": [
    "offering = pd.concat([offering, pd.json_normalize(offering['address'])], axis=1)"
   ]
  },
  {
   "cell_type": "markdown",
   "metadata": {},
   "source": [
    "Next we'll combine the review info from `df` with the corresponding hotel info from `offering` (in SQL terms, this is an [inner join](https://en.wikipedia.org/wiki/Join_(SQL)#Inner_join) operation)"
   ]
  },
  {
   "cell_type": "code",
   "execution_count": 6,
   "metadata": {},
   "outputs": [],
   "source": [
    "df = df.merge(offering[['locality', 'id', 'name']],\n",
    "              left_on='offering_id', right_on='id')"
   ]
  },
  {
   "cell_type": "markdown",
   "metadata": {},
   "source": [
    "Drop columns we don't need:"
   ]
  },
  {
   "cell_type": "code",
   "execution_count": 7,
   "metadata": {},
   "outputs": [
    {
     "data": {
      "text/html": [
       "<div>\n",
       "<style scoped>\n",
       "    .dataframe tbody tr th:only-of-type {\n",
       "        vertical-align: middle;\n",
       "    }\n",
       "\n",
       "    .dataframe tbody tr th {\n",
       "        vertical-align: top;\n",
       "    }\n",
       "\n",
       "    .dataframe thead th {\n",
       "        text-align: right;\n",
       "    }\n",
       "</style>\n",
       "<table border=\"1\" class=\"dataframe\">\n",
       "  <thead>\n",
       "    <tr style=\"text-align: right;\">\n",
       "      <th></th>\n",
       "      <th>title</th>\n",
       "      <th>text</th>\n",
       "      <th>date_stayed</th>\n",
       "      <th>date</th>\n",
       "      <th>service</th>\n",
       "      <th>cleanliness</th>\n",
       "      <th>overall</th>\n",
       "      <th>value</th>\n",
       "      <th>location</th>\n",
       "      <th>sleep_quality</th>\n",
       "      <th>rooms</th>\n",
       "      <th>locality</th>\n",
       "      <th>name</th>\n",
       "    </tr>\n",
       "  </thead>\n",
       "  <tbody>\n",
       "    <tr>\n",
       "      <th>0</th>\n",
       "      <td>“Truly is \"Jewel of the Upper Wets Side\"”</td>\n",
       "      <td>Stayed in a king suite for 11 nights and yes i...</td>\n",
       "      <td>December 2012</td>\n",
       "      <td>2012-12-17</td>\n",
       "      <td>5.0</td>\n",
       "      <td>5.0</td>\n",
       "      <td>5.0</td>\n",
       "      <td>5.0</td>\n",
       "      <td>5.0</td>\n",
       "      <td>5.0</td>\n",
       "      <td>5.0</td>\n",
       "      <td>New York City</td>\n",
       "      <td>Hotel Beacon</td>\n",
       "    </tr>\n",
       "    <tr>\n",
       "      <th>1</th>\n",
       "      <td>“My home away from home!”</td>\n",
       "      <td>On every visit to NYC, the Hotel Beacon is the...</td>\n",
       "      <td>December 2012</td>\n",
       "      <td>2012-12-17</td>\n",
       "      <td>5.0</td>\n",
       "      <td>5.0</td>\n",
       "      <td>5.0</td>\n",
       "      <td>5.0</td>\n",
       "      <td>5.0</td>\n",
       "      <td>5.0</td>\n",
       "      <td>5.0</td>\n",
       "      <td>New York City</td>\n",
       "      <td>Hotel Beacon</td>\n",
       "    </tr>\n",
       "    <tr>\n",
       "      <th>2</th>\n",
       "      <td>“Excellent location”</td>\n",
       "      <td>Loved the hotel. Great location - only 2 block...</td>\n",
       "      <td>December 2012</td>\n",
       "      <td>2012-12-17</td>\n",
       "      <td>5.0</td>\n",
       "      <td>5.0</td>\n",
       "      <td>5.0</td>\n",
       "      <td>5.0</td>\n",
       "      <td>5.0</td>\n",
       "      <td>5.0</td>\n",
       "      <td>5.0</td>\n",
       "      <td>New York City</td>\n",
       "      <td>Hotel Beacon</td>\n",
       "    </tr>\n",
       "    <tr>\n",
       "      <th>3</th>\n",
       "      <td>“All-round fantastic NYC hotel”</td>\n",
       "      <td>Our first stay on the upper west side and can'...</td>\n",
       "      <td>December 2012</td>\n",
       "      <td>2012-12-17</td>\n",
       "      <td>5.0</td>\n",
       "      <td>5.0</td>\n",
       "      <td>5.0</td>\n",
       "      <td>4.0</td>\n",
       "      <td>5.0</td>\n",
       "      <td>5.0</td>\n",
       "      <td>5.0</td>\n",
       "      <td>New York City</td>\n",
       "      <td>Hotel Beacon</td>\n",
       "    </tr>\n",
       "    <tr>\n",
       "      <th>4</th>\n",
       "      <td>“Great hotel in nice area”</td>\n",
       "      <td>Great room, very big with huge bed! Great loca...</td>\n",
       "      <td>December 2012</td>\n",
       "      <td>2012-12-17</td>\n",
       "      <td>5.0</td>\n",
       "      <td>5.0</td>\n",
       "      <td>5.0</td>\n",
       "      <td>4.0</td>\n",
       "      <td>5.0</td>\n",
       "      <td>5.0</td>\n",
       "      <td>5.0</td>\n",
       "      <td>New York City</td>\n",
       "      <td>Hotel Beacon</td>\n",
       "    </tr>\n",
       "  </tbody>\n",
       "</table>\n",
       "</div>"
      ],
      "text/plain": [
       "                                       title  \\\n",
       "0  “Truly is \"Jewel of the Upper Wets Side\"”   \n",
       "1                  “My home away from home!”   \n",
       "2                       “Excellent location”   \n",
       "3            “All-round fantastic NYC hotel”   \n",
       "4                 “Great hotel in nice area”   \n",
       "\n",
       "                                                text    date_stayed  \\\n",
       "0  Stayed in a king suite for 11 nights and yes i...  December 2012   \n",
       "1  On every visit to NYC, the Hotel Beacon is the...  December 2012   \n",
       "2  Loved the hotel. Great location - only 2 block...  December 2012   \n",
       "3  Our first stay on the upper west side and can'...  December 2012   \n",
       "4  Great room, very big with huge bed! Great loca...  December 2012   \n",
       "\n",
       "        date  service  cleanliness  overall  value  location  sleep_quality  \\\n",
       "0 2012-12-17      5.0          5.0      5.0    5.0       5.0            5.0   \n",
       "1 2012-12-17      5.0          5.0      5.0    5.0       5.0            5.0   \n",
       "2 2012-12-17      5.0          5.0      5.0    5.0       5.0            5.0   \n",
       "3 2012-12-17      5.0          5.0      5.0    4.0       5.0            5.0   \n",
       "4 2012-12-17      5.0          5.0      5.0    4.0       5.0            5.0   \n",
       "\n",
       "   rooms       locality          name  \n",
       "0    5.0  New York City  Hotel Beacon  \n",
       "1    5.0  New York City  Hotel Beacon  \n",
       "2    5.0  New York City  Hotel Beacon  \n",
       "3    5.0  New York City  Hotel Beacon  \n",
       "4    5.0  New York City  Hotel Beacon  "
      ]
     },
     "execution_count": 7,
     "metadata": {},
     "output_type": "execute_result"
    }
   ],
   "source": [
    "df = df.drop(['id', 'offering_id'], axis=1)\n",
    "df.head()"
   ]
  },
  {
   "cell_type": "markdown",
   "metadata": {},
   "source": [
    "And finally save the result to a local datafile:"
   ]
  },
  {
   "cell_type": "code",
   "execution_count": 8,
   "metadata": {},
   "outputs": [],
   "source": [
    "df.to_parquet('hotels.parquet', index=False)"
   ]
  },
  {
   "cell_type": "markdown",
   "metadata": {},
   "source": [
    "----\n",
    "\n",
    "### Find domain-specific terms\n",
    "\n",
    "The next thing we need to do is find domain-specific terminology (multiword expressions, or MWEs) that is relevant for hotel reviews (like \"front desk\" and \"room key\").  We'll follow the same procedure as we did in Lab 3 with one different: the tag sequence we're using for matching allows both common nouns (e.g., \"coffee pot\") and proper nouns (e.g., \"New York\"). Multi-word proper names aren't usually technical terms in scientific literature, but they are important for hotel reviews."
   ]
  },
  {
   "cell_type": "code",
   "execution_count": 9,
   "metadata": {},
   "outputs": [],
   "source": [
    "import spacy\n",
    "from spacy.matcher import Matcher\n",
    "\n",
    "nlp = spacy.load('en_core_web_sm', exclude=[\n",
    "                 'parser', 'ner', 'lemmatizer', 'attribute_ruler'])\n",
    "\n",
    "matcher = Matcher(nlp.vocab)\n",
    "matcher.add('Term', [[{'TAG': {'IN': ['JJ', 'NN', 'NNP']}},\n",
    "                      {'TAG': {'IN': ['JJ', 'NN', 'IN',\n",
    "                                      'HYPH', 'NNP']}, 'OP': '*'},\n",
    "                      {'TAG': {'IN': ['NN', 'NNP']}}]])\n",
    "\n",
    "\n",
    "def get_candidates(text):\n",
    "    doc = nlp(text)\n",
    "    spans = matcher(doc, as_spans=True)\n",
    "    return [tuple(tok.norm_ for tok in span) for span in spans]"
   ]
  },
  {
   "cell_type": "markdown",
   "metadata": {},
   "source": [
    "We have a lot of reviews to get through, so we'll parallelize things using dask. In order to run this notebook you'll need to **start a dask cluster** and **replace the port number of the client** (xxxxx below) with the right value for your cluster."
   ]
  },
  {
   "cell_type": "code",
   "execution_count": 11,
   "metadata": {},
   "outputs": [
    {
     "data": {
      "text/html": [
       "<table style=\"border: 2px solid white;\">\n",
       "<tr>\n",
       "<td style=\"vertical-align: top; border: 0px solid white\">\n",
       "<h3 style=\"text-align: left;\">Client</h3>\n",
       "<ul style=\"text-align: left; list-style: none; margin: 0; padding: 0;\">\n",
       "  <li><b>Scheduler: </b>tcp://127.0.0.1:44385</li>\n",
       "  <li><b>Dashboard: </b><a href='http://127.0.0.1:8787/status' target='_blank'>http://127.0.0.1:8787/status</a></li>\n",
       "</ul>\n",
       "</td>\n",
       "<td style=\"vertical-align: top; border: 0px solid white\">\n",
       "<h3 style=\"text-align: left;\">Cluster</h3>\n",
       "<ul style=\"text-align: left; list-style:none; margin: 0; padding: 0;\">\n",
       "  <li><b>Workers: </b>4</li>\n",
       "  <li><b>Cores: </b>4</li>\n",
       "  <li><b>Memory: </b>16.62 GB</li>\n",
       "</ul>\n",
       "</td>\n",
       "</tr>\n",
       "</table>"
      ],
      "text/plain": [
       "<Client: 'tcp://127.0.0.1:44385' processes=4 threads=4, memory=16.62 GB>"
      ]
     },
     "execution_count": 11,
     "metadata": {},
     "output_type": "execute_result"
    }
   ],
   "source": [
    "from dask.distributed import Client\n",
    "\n",
    "client = Client(\"tcp://127.0.0.1:44385\")\n",
    "client"
   ]
  },
  {
   "cell_type": "markdown",
   "metadata": {},
   "source": [
    "To save processing time, we'll just use a sub-sample of 100,000 reviews to find MWEs. (Feel free to increase that if you want, but you'll need to adjust `theta` below accordingly.)"
   ]
  },
  {
   "cell_type": "code",
   "execution_count": 12,
   "metadata": {},
   "outputs": [],
   "source": [
    "import dask.bag as db\n",
    "import dask.dataframe as dd\n",
    "\n",
    "texts = dd.from_pandas(df['text'].sample(\n",
    "    100000, random_state=19), npartitions=50).to_bag()\n",
    "\n",
    "graph = texts.map(get_candidates).flatten().frequencies()"
   ]
  },
  {
   "cell_type": "code",
   "execution_count": 13,
   "metadata": {},
   "outputs": [
    {
     "name": "stdout",
     "output_type": "stream",
     "text": [
      "CPU times: user 6.29 s, sys: 831 ms, total: 7.12 s\n",
      "Wall time: 7min 19s\n"
     ]
    }
   ],
   "source": [
    "%%time\n",
    "\n",
    "candidates = graph.compute()"
   ]
  },
  {
   "cell_type": "code",
   "execution_count": 14,
   "metadata": {},
   "outputs": [],
   "source": [
    "from nltk import ngrams\n",
    "\n",
    "\n",
    "def get_subterms(term):\n",
    "    k = len(term)\n",
    "    for m in range(k-1, 1, -1):\n",
    "        yield from ngrams(term, m)"
   ]
  },
  {
   "cell_type": "code",
   "execution_count": 15,
   "metadata": {},
   "outputs": [],
   "source": [
    "from collections import Counter, defaultdict\n",
    "from math import log2\n",
    "\n",
    "freqs = defaultdict(Counter)\n",
    "for c, f in candidates:\n",
    "    freqs[len(c)][c] += f\n",
    "\n",
    "\n",
    "def c_value(F, theta):\n",
    "\n",
    "    termhood = Counter()\n",
    "    longer = defaultdict(list)\n",
    "\n",
    "    for k in sorted(F, reverse=True):\n",
    "        for term in F[k]:\n",
    "            if term in longer:\n",
    "                discount = sum(longer[term]) / len(longer[term])\n",
    "            else:\n",
    "                discount = 0\n",
    "            c = log2(k) * (F[k][term] - discount)\n",
    "            if c > theta:\n",
    "                termhood[term] = c\n",
    "                for subterm in get_subterms(term):\n",
    "                    if subterm in F[len(subterm)]:\n",
    "                        longer[subterm].append(F[k][term])\n",
    "    return termhood"
   ]
  },
  {
   "cell_type": "code",
   "execution_count": 16,
   "metadata": {},
   "outputs": [],
   "source": [
    "terms = c_value(freqs, theta=200)"
   ]
  },
  {
   "cell_type": "code",
   "execution_count": 17,
   "metadata": {},
   "outputs": [
    {
     "name": "stdout",
     "output_type": "stream",
     "text": [
      "18737.83 19525 front desk\n",
      " 8601.12  8898 new york\n",
      " 7272.00  7272 great location\n",
      " 6159.80  6321 times square\n",
      " 5562.75  5743 room service\n",
      " 5295.36  3341 front desk staff\n",
      " 4128.83  2772 check - in\n",
      " 3633.00  3781 san francisco\n",
      " 3250.50  3411 san diego\n",
      " 3211.00  3211 hotel staff\n",
      " 3166.00  3374 next door\n",
      " 2874.00  3009 union square\n",
      " 2757.50  2948 customer service\n",
      " 2713.00  2816 central park\n",
      " 2712.00  2712 next time\n",
      " 2537.00  2537 friendly staff\n",
      " 2459.00  2459 first time\n",
      " 2433.00  2523 minute walk\n",
      " 2371.00  2371 great place\n",
      " 2355.50  2567 continental breakfast\n"
     ]
    }
   ],
   "source": [
    "for t, c in terms.most_common(20):\n",
    "    print(f'{c:8.2f} {freqs[len(t)][t]:5d} {\" \".join(t)}')"
   ]
  },
  {
   "cell_type": "code",
   "execution_count": 18,
   "metadata": {},
   "outputs": [
    {
     "name": "stdout",
     "output_type": "stream",
     "text": [
      "  206.00   206 first rate\n",
      "  206.00   206 shuttle driver\n",
      "  206.00   206 balboa park\n",
      "  205.00   205 reasonable rate\n",
      "  204.00   204 small kitchen\n",
      "  204.00   204 separate bedroom\n",
      "  204.00   204 hudson river\n",
      "  204.00   204 small refrigerator\n",
      "  204.00   204 nice bar\n",
      "  203.00   203 park hotel\n",
      "  202.88   128 roll - away\n",
      "  202.00   202 average size\n",
      "  202.00   202 first place\n",
      "  202.00   202 comfortable stay\n",
      "  201.29   127 complimentary continental breakfast\n",
      "  201.00   201 storage space\n",
      "  201.00   201 security guard\n",
      "  201.00   201 city hall\n",
      "  201.00   201 bart station\n",
      "  201.00   201 freedom trail\n"
     ]
    }
   ],
   "source": [
    "for t, c in tail(20, terms.most_common()):\n",
    "    print(f'{c:8.2f} {freqs[len(t)][t]:5d} {\" \".join(t)}')"
   ]
  },
  {
   "cell_type": "markdown",
   "metadata": {},
   "source": [
    "Last of all, we'll save the MWEs that we've found for use in the next step"
   ]
  },
  {
   "cell_type": "code",
   "execution_count": 19,
   "metadata": {},
   "outputs": [],
   "source": [
    "with open('hotel-terms.txt', 'w') as f:\n",
    "    for t in terms:\n",
    "        print(' '.join(t), file=f)"
   ]
  },
  {
   "cell_type": "code",
   "execution_count": null,
   "metadata": {},
   "outputs": [],
   "source": []
  }
 ],
 "metadata": {
  "kernelspec": {
   "display_name": "Python 3",
   "language": "python",
   "name": "python3"
  },
  "language_info": {
   "codemirror_mode": {
    "name": "ipython",
    "version": 3
   },
   "file_extension": ".py",
   "mimetype": "text/x-python",
   "name": "python",
   "nbconvert_exporter": "python",
   "pygments_lexer": "ipython3",
   "version": "3.8.6"
  }
 },
 "nbformat": 4,
 "nbformat_minor": 4
}
