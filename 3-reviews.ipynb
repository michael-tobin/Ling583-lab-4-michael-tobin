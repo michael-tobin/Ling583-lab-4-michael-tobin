{
 "cells": [
  {
   "cell_type": "markdown",
   "metadata": {},
   "source": [
    "# LAB 4: Topic modeling\n",
    "\n",
    "Use topic models to explore hotel reviews\n",
    "\n",
    "Objectives:\n",
    "* tokenize with MWEs using spacy\n",
    "* estimate LDA topic models with tomotopy\n",
    "* visualize and evaluate topic models\n",
    "* apply topic models to interpretation of hotel reviews\n",
    "\n",
    "## Analyze reviews"
   ]
  },
  {
   "cell_type": "code",
   "execution_count": 1,
   "metadata": {},
   "outputs": [],
   "source": [
    "import pandas as pd\n",
    "import numpy as np\n",
    "from cytoolz import *\n",
    "from tqdm.auto import tqdm\n",
    "tqdm.pandas()"
   ]
  },
  {
   "cell_type": "markdown",
   "metadata": {},
   "source": [
    "### Read in hotel review data and tokenize it"
   ]
  },
  {
   "cell_type": "code",
   "execution_count": 2,
   "metadata": {},
   "outputs": [],
   "source": [
    "df = pd.read_parquet('hotels.parquet')"
   ]
  },
  {
   "cell_type": "code",
   "execution_count": 3,
   "metadata": {},
   "outputs": [],
   "source": [
    "import tomotopy as tp\n",
    "\n",
    "mdl = tp.LDAModel.load('hotel-topics.bin')"
   ]
  },
  {
   "cell_type": "code",
   "execution_count": 4,
   "metadata": {},
   "outputs": [
    {
     "data": {
      "text/plain": [
       "Hotel Pennsylvania New York                      1358\n",
       "Hotel Carter                                      685\n",
       "Hudson New York                                   486\n",
       "Park Central                                      330\n",
       "The Boston Park Plaza Hotel & Towers              238\n",
       "W New York                                        233\n",
       "The Roosevelt Hotel                               206\n",
       "Edison Hotel Times Square                         195\n",
       "Wellington Hotel                                  178\n",
       "Paradise Point Resort & Spa                       169\n",
       "Waldorf Astoria New York                          168\n",
       "Town and Country Resort Hotel                     157\n",
       "Milford Plaza Hotel                               157\n",
       "Manhattan Broadway Hotel                          147\n",
       "Grand Hyatt New York                              145\n",
       "Doubletree Hotel Metropolitan - New York City     145\n",
       "Le Parker Meridien                                144\n",
       "Fort Rapids Indoor Waterpark Resort               143\n",
       "New York Inn                                      139\n",
       "Congress Plaza Hotel                              132\n",
       "Name: name, dtype: int64"
      ]
     },
     "execution_count": 4,
     "metadata": {},
     "output_type": "execute_result"
    }
   ],
   "source": [
    "df[df['overall']==1]['name'].value_counts().head(20)"
   ]
  },
  {
   "cell_type": "markdown",
   "metadata": {},
   "source": [
    "Pick a hotel with a lot of 1 star ratings (other than the Paradise Point Resort & Spa) and pull out all of its reviews"
   ]
  },
  {
   "cell_type": "code",
   "execution_count": 5,
   "metadata": {},
   "outputs": [],
   "source": [
    "subdf = df[df['name']=='Hotel Pennsylvania New York']"
   ]
  },
  {
   "cell_type": "code",
   "execution_count": 6,
   "metadata": {},
   "outputs": [
    {
     "data": {
      "text/plain": [
       "1.0    1358\n",
       "3.0     772\n",
       "2.0     555\n",
       "4.0     437\n",
       "5.0     116\n",
       "Name: overall, dtype: int64"
      ]
     },
     "execution_count": 6,
     "metadata": {},
     "output_type": "execute_result"
    }
   ],
   "source": [
    "subdf['overall'].value_counts()"
   ]
  },
  {
   "cell_type": "markdown",
   "metadata": {},
   "source": [
    "Tokenize"
   ]
  },
  {
   "cell_type": "code",
   "execution_count": 7,
   "metadata": {},
   "outputs": [],
   "source": [
    "from tokenizer import MWETokenizer\n",
    "\n",
    "tokenizer = MWETokenizer(open('hotel-terms.txt'))"
   ]
  },
  {
   "cell_type": "code",
   "execution_count": 8,
   "metadata": {},
   "outputs": [
    {
     "data": {
      "application/vnd.jupyter.widget-view+json": {
       "model_id": "e061d2d16030430d835ebdde36e03ed7",
       "version_major": 2,
       "version_minor": 0
      },
      "text/plain": [
       "  0%|          | 0/3238 [00:00<?, ?it/s]"
      ]
     },
     "metadata": {},
     "output_type": "display_data"
    },
    {
     "name": "stderr",
     "output_type": "stream",
     "text": [
      "<ipython-input-8-639ec7ac7f3b>:1: SettingWithCopyWarning: \n",
      "A value is trying to be set on a copy of a slice from a DataFrame.\n",
      "Try using .loc[row_indexer,col_indexer] = value instead\n",
      "\n",
      "See the caveats in the documentation: https://pandas.pydata.org/pandas-docs/stable/user_guide/indexing.html#returning-a-view-versus-a-copy\n",
      "  subdf['tokens'] = subdf['text'].progress_apply(tokenizer.tokenize)\n"
     ]
    }
   ],
   "source": [
    "subdf['tokens'] = subdf['text'].progress_apply(tokenizer.tokenize)"
   ]
  },
  {
   "cell_type": "markdown",
   "metadata": {},
   "source": [
    "### Apply topic model"
   ]
  },
  {
   "cell_type": "code",
   "execution_count": 9,
   "metadata": {},
   "outputs": [
    {
     "name": "stderr",
     "output_type": "stream",
     "text": [
      "<ipython-input-9-4ea85f0a2328>:1: SettingWithCopyWarning: \n",
      "A value is trying to be set on a copy of a slice from a DataFrame.\n",
      "Try using .loc[row_indexer,col_indexer] = value instead\n",
      "\n",
      "See the caveats in the documentation: https://pandas.pydata.org/pandas-docs/stable/user_guide/indexing.html#returning-a-view-versus-a-copy\n",
      "  subdf['docs'] = [mdl.make_doc(words=toks) for toks in subdf['tokens']]\n"
     ]
    }
   ],
   "source": [
    "subdf['docs'] = [mdl.make_doc(words=toks) for toks in subdf['tokens']]"
   ]
  },
  {
   "cell_type": "code",
   "execution_count": 10,
   "metadata": {},
   "outputs": [],
   "source": [
    "topic_dist, ll = mdl.infer(subdf['docs'])"
   ]
  },
  {
   "cell_type": "markdown",
   "metadata": {},
   "source": [
    "### Interpret model\n",
    "\n",
    "What topics are associated with a review?"
   ]
  },
  {
   "cell_type": "code",
   "execution_count": 11,
   "metadata": {},
   "outputs": [
    {
     "data": {
      "text/plain": [
       "\"The front desk girl was extremely rude and wouldn't let us check into the room. We were stranded in manhattan and really needed a place to stay although since we made our reservations online she said we couldn't check in. I used to work at a hotel and was extremely confused by the rude service and not disappointed that even tho the hotel had 500 empty rooms they couldn't let us check into ours. Terrible service and I will make sure to inform my friends to never stay here and I will never return. Worst customer service ever!!\""
      ]
     },
     "execution_count": 11,
     "metadata": {},
     "output_type": "execute_result"
    }
   ],
   "source": [
    "subdf['text'].iloc[0]"
   ]
  },
  {
   "cell_type": "code",
   "execution_count": 12,
   "metadata": {},
   "outputs": [
    {
     "data": {
      "text/plain": [
       "title                                         “Worst service ever”\n",
       "text             The front desk girl was extremely rude and wou...\n",
       "date_stayed                                          December 2012\n",
       "date                                           2012-12-19 00:00:00\n",
       "service                                                        1.0\n",
       "cleanliness                                                    1.0\n",
       "overall                                                        1.0\n",
       "value                                                          1.0\n",
       "location                                                       3.0\n",
       "sleep_quality                                                  NaN\n",
       "rooms                                                          1.0\n",
       "locality                                             New York City\n",
       "name                                   Hotel Pennsylvania New York\n",
       "tokens           [the, front_desk, girl, was, extremely, rude, ...\n",
       "docs             (the, front_desk, girl, was, extremely, rude, ...\n",
       "Name: 65186, dtype: object"
      ]
     },
     "execution_count": 12,
     "metadata": {},
     "output_type": "execute_result"
    }
   ],
   "source": [
    "subdf.iloc[0]"
   ]
  },
  {
   "cell_type": "code",
   "execution_count": 13,
   "metadata": {},
   "outputs": [
    {
     "data": {
      "text/plain": [
       "[(67, 0.22349637746810913),\n",
       " (46, 0.16731783747673035),\n",
       " (2, 0.13108664751052856),\n",
       " (58, 0.09505050629377365),\n",
       " (9, 0.0940554141998291)]"
      ]
     },
     "execution_count": 13,
     "metadata": {},
     "output_type": "execute_result"
    }
   ],
   "source": [
    "subdf['docs'].iloc[0].get_topics(top_n=5)"
   ]
  },
  {
   "cell_type": "code",
   "execution_count": 25,
   "metadata": {},
   "outputs": [
    {
     "data": {
      "text/plain": [
       "[('never', 0.017958614975214005),\n",
       " ('even', 0.01770029403269291),\n",
       " ('place', 0.016894331201910973),\n",
       " ('ever', 0.014745095744729042),\n",
       " ('bad', 0.013660145923495293),\n",
       " ('rude', 0.012978176586329937),\n",
       " ('worst', 0.012957511469721794),\n",
       " ('what', 0.01122159045189619),\n",
       " ('their', 0.00972332525998354),\n",
       " ('money', 0.009227348491549492)]"
      ]
     },
     "execution_count": 25,
     "metadata": {},
     "output_type": "execute_result"
    }
   ],
   "source": [
    "mdl.get_topic_words(67)"
   ]
  },
  {
   "cell_type": "code",
   "execution_count": 26,
   "metadata": {},
   "outputs": [
    {
     "data": {
      "text/plain": [
       "[('she', 0.137332484126091),\n",
       " ('her', 0.07034335285425186),\n",
       " ('asked', 0.024063313379883766),\n",
       " ('said', 0.023601744323968887),\n",
       " ('front_desk', 0.019278375431895256),\n",
       " ('who', 0.017816739156842232),\n",
       " ('told', 0.01757056824862957),\n",
       " ('lady', 0.015124250203371048),\n",
       " ('checked', 0.011200908571481705),\n",
       " ('what', 0.011154751293361187)]"
      ]
     },
     "execution_count": 26,
     "metadata": {},
     "output_type": "execute_result"
    }
   ],
   "source": [
    "mdl.get_topic_words(46)"
   ]
  },
  {
   "cell_type": "code",
   "execution_count": 27,
   "metadata": {},
   "outputs": [
    {
     "data": {
      "text/plain": [
       "[('upon', 0.023397130891680717),\n",
       " ('check', 0.021930620074272156),\n",
       " ('arrived', 0.018616974353790283),\n",
       " ('check-in', 0.018213964998722076),\n",
       " ('arrival', 0.01524735614657402),\n",
       " ('checked', 0.013400223106145859),\n",
       " ('greeted', 0.012885265052318573),\n",
       " ('front_desk', 0.012504643760621548),\n",
       " ('after', 0.012247164733707905),\n",
       " ('time', 0.011105299927294254)]"
      ]
     },
     "execution_count": 27,
     "metadata": {},
     "output_type": "execute_result"
    }
   ],
   "source": [
    "mdl.get_topic_words(2)"
   ]
  },
  {
   "cell_type": "code",
   "execution_count": 28,
   "metadata": {},
   "outputs": [
    {
     "data": {
      "text/plain": [
       "[('their', 0.021092552691698074),\n",
       " ('service', 0.018815666437149048),\n",
       " ('front_desk', 0.01835695281624794),\n",
       " ('helpful', 0.017989981919527054),\n",
       " ('way', 0.015404507517814636),\n",
       " ('make', 0.014553803019225597),\n",
       " ('help', 0.013978326693177223),\n",
       " ('friendly', 0.013060900382697582),\n",
       " ('always', 0.013044219464063644),\n",
       " ('went', 0.012718950398266315)]"
      ]
     },
     "execution_count": 28,
     "metadata": {},
     "output_type": "execute_result"
    }
   ],
   "source": [
    "mdl.get_topic_words(58)"
   ]
  },
  {
   "cell_type": "code",
   "execution_count": 29,
   "metadata": {},
   "outputs": [
    {
     "data": {
      "text/plain": [
       "[('check', 0.03354354575276375),\n",
       " ('arrived', 0.02969188429415226),\n",
       " ('p.m.', 0.028241846710443497),\n",
       " ('early', 0.02476402372121811),\n",
       " ('ready', 0.02423158846795559),\n",
       " ('until', 0.024220259860157967),\n",
       " ('after', 0.021637381985783577),\n",
       " ('before', 0.016981404274702072),\n",
       " ('a.m.', 0.016856791451573372),\n",
       " ('around', 0.016494283452630043)]"
      ]
     },
     "execution_count": 29,
     "metadata": {},
     "output_type": "execute_result"
    }
   ],
   "source": [
    "mdl.get_topic_words(9)"
   ]
  },
  {
   "cell_type": "markdown",
   "metadata": {},
   "source": [
    "What are the most common topics?"
   ]
  },
  {
   "cell_type": "code",
   "execution_count": 19,
   "metadata": {},
   "outputs": [
    {
     "name": "stderr",
     "output_type": "stream",
     "text": [
      "<ipython-input-19-b8d81d74ac29>:1: SettingWithCopyWarning: \n",
      "A value is trying to be set on a copy of a slice from a DataFrame.\n",
      "Try using .loc[row_indexer,col_indexer] = value instead\n",
      "\n",
      "See the caveats in the documentation: https://pandas.pydata.org/pandas-docs/stable/user_guide/indexing.html#returning-a-view-versus-a-copy\n",
      "  subdf['topics'] = [list(map(first, d.get_topics(3))) for d in subdf['docs']]\n"
     ]
    }
   ],
   "source": [
    "subdf['topics'] = [list(map(first, d.get_topics(3))) for d in subdf['docs']]"
   ]
  },
  {
   "cell_type": "code",
   "execution_count": 20,
   "metadata": {},
   "outputs": [
    {
     "data": {
      "text/plain": [
       "65186     [67, 46, 2]\n",
       "65187     [7, 27, 61]\n",
       "65188    [92, 85, 59]\n",
       "65189     [66, 2, 37]\n",
       "65190     [25, 44, 1]\n",
       "             ...     \n",
       "68419    [77, 45, 18]\n",
       "68420     [66, 0, 14]\n",
       "68421    [67, 91, 17]\n",
       "68422    [66, 60, 45]\n",
       "68423     [14, 37, 0]\n",
       "Name: topics, Length: 3238, dtype: object"
      ]
     },
     "execution_count": 20,
     "metadata": {},
     "output_type": "execute_result"
    }
   ],
   "source": [
    "subdf['topics']"
   ]
  },
  {
   "cell_type": "code",
   "execution_count": 21,
   "metadata": {},
   "outputs": [],
   "source": [
    "from collections import Counter"
   ]
  },
  {
   "cell_type": "code",
   "execution_count": 22,
   "metadata": {},
   "outputs": [
    {
     "name": "stdout",
     "output_type": "stream",
     "text": [
      "Top Freq Words\n",
      " 85 1104 dirty, bathroom, carpet, bed, been, floor, old, looked, shower, sheets\n",
      " 17  683 reception, new_york, after, day, lovely, really, booked, too, been, nights\n",
      " 67  668 never, even, place, ever, bad, rude, worst, what, their, money\n",
      " 27  417 your, want, go, its, place, need, make, back, then, what\n",
      "  7  409 reviews, after, some, read, surprised, reading, other, little, pleasantly, negative\n",
      " 16  392 back, got, went, down, into, go, after, then, came, off\n",
      " 60  380 old, need, some, bathroom, worn, carpet, furniture, dated, lobby, needs\n",
      "  0  356 am, what, their, people, know, really, who, them, how, some\n",
      " 25  306 new_york, nyc, affinia, empire_state_building, manhattan, subway, penn_station, times_square, macy, square\n",
      " 66  291 place, small, price, want, bathroom, spend, your, looking, budget, nyc\n",
      " 35  290 really, pretty, little, too, much, bit, got, though, some, because\n",
      " 81  251 more, than, wanted, because, place, time, what, staying, after, before\n",
      " 37  217 however, some, other, quite, service, bit, than, overall, more, though\n",
      " 38  202 breakfast, coffee, helpful, nights, really, facilities, friendly, bathroom, walk, tea\n",
      " 24  157 than, more, hotels, other, much, better, price, less, area, expected\n",
      " 59  152 after, left, told, them, been, called, credit_card, charged, never, manager\n",
      " 62  151 minutes, called, after, told, wait, front_desk, call, back, service, waited\n",
      " 20  147 reservation, booked, told, available, called, after, made, arrived, another, asked\n",
      " 92  141 door, front_desk, after, called, went, left, back, told, am, morning\n",
      "  9  126 check, arrived, p.m., early, ready, until, after, before, a.m., around\n"
     ]
    }
   ],
   "source": [
    "topic_freq = Counter(concat(subdf['topics']))\n",
    "print(f'Top Freq Words')\n",
    "for t, c in topic_freq.most_common(20):\n",
    "    print(f'{t:3d} {c:4d}', ', '.join(map(first, mdl.get_topic_words(t))))"
   ]
  },
  {
   "cell_type": "markdown",
   "metadata": {},
   "source": [
    "Most common topics in 1 star reviews?"
   ]
  },
  {
   "cell_type": "code",
   "execution_count": 23,
   "metadata": {},
   "outputs": [
    {
     "name": "stdout",
     "output_type": "stream",
     "text": [
      "Top Freq Words\n",
      " 85  809 dirty, bathroom, carpet, bed, been, floor, old, looked, shower, sheets\n",
      " 67  512 never, even, place, ever, bad, rude, worst, what, their, money\n",
      " 16  214 back, got, went, down, into, go, after, then, came, off\n",
      " 17  207 reception, new_york, after, day, lovely, really, booked, too, been, nights\n",
      "  0  174 am, what, their, people, know, really, who, them, how, some\n",
      " 60  139 old, need, some, bathroom, worn, carpet, furniture, dated, lobby, needs\n",
      " 27  127 your, want, go, its, place, need, make, back, then, what\n",
      " 59  110 after, left, told, them, been, called, credit_card, charged, never, manager\n",
      " 81  106 more, than, wanted, because, place, time, what, staying, after, before\n",
      " 20   90 reservation, booked, told, available, called, after, made, arrived, another, asked\n",
      " 62   85 minutes, called, after, told, wait, front_desk, call, back, service, waited\n",
      " 92   83 door, front_desk, after, called, went, left, back, told, am, morning\n",
      " 35   71 really, pretty, little, too, much, bit, got, though, some, because\n",
      " 37   66 however, some, other, quite, service, bit, than, overall, more, though\n",
      " 99   63 bathroom, small, bed, shower, door, desk, closet, space, sink, wall\n",
      " 24   56 than, more, hotels, other, much, better, price, less, area, expected\n",
      " 74   56 smell, smoking, non, smoke, bed, smelled, bugs, smoking_room, another, non-smoking_room\n",
      " 41   52 he, his, him, said, asked, told, manager, who, went, guy\n",
      " 66   50 place, small, price, want, bathroom, spend, your, looking, budget, nyc\n",
      "  9   49 check, arrived, p.m., early, ready, until, after, before, a.m., around\n"
     ]
    }
   ],
   "source": [
    "topic_freq = Counter(concat(subdf[subdf['overall']==1]['topics']))\n",
    "print(f'Top Freq Words')\n",
    "for t, c in topic_freq.most_common(20):\n",
    "    print(f'{t:3d} {c:4d}', ', '.join(map(first, mdl.get_topic_words(t))))"
   ]
  },
  {
   "cell_type": "markdown",
   "metadata": {},
   "source": [
    "Most common topics in 5 star reviews?"
   ]
  },
  {
   "cell_type": "code",
   "execution_count": 24,
   "metadata": {},
   "outputs": [
    {
     "name": "stdout",
     "output_type": "stream",
     "text": [
      "Top Freq Words\n",
      " 17   34 reception, new_york, after, day, lovely, really, booked, too, been, nights\n",
      "  7   32 reviews, after, some, read, surprised, reading, other, little, pleasantly, negative\n",
      " 27   23 your, want, go, its, place, need, make, back, then, what\n",
      " 25   18 new_york, nyc, affinia, empire_state_building, manhattan, subway, penn_station, times_square, macy, square\n",
      " 14   16 back, loved, friendly, really, helpful, go, definitely, comfortable, perfect, everything\n",
      "  0   13 am, what, their, people, know, really, who, them, how, some\n",
      " 38   13 breakfast, coffee, helpful, nights, really, facilities, friendly, bathroom, walk, tea\n",
      " 66   12 place, small, price, want, bathroom, spend, your, looking, budget, nyc\n",
      " 28   11 recommend, highly, friendly, helpful, excellent, definitely, comfortable, anyone, extremely, staying\n",
      " 81   10 more, than, wanted, because, place, time, what, staying, after, before\n",
      " 37    9 however, some, other, quite, service, bit, than, overall, more, though\n",
      " 45    8 times_square, nyc, new_york, central_park, ny, broadway, right, subway, city, away\n",
      " 60    8 old, need, some, bathroom, worn, carpet, furniture, dated, lobby, needs\n",
      " 16    7 back, got, went, down, into, go, after, then, came, off\n",
      " 63    6 has, old, lobby, beautiful, feel, its, building, style, charm, place\n",
      " 24    6 than, more, hotels, other, much, better, price, less, area, expected\n",
      " 52    6 beds, two, double, 2, bed, small, queen, king, booked, nights\n",
      " 35    5 really, pretty, little, too, much, bit, got, though, some, because\n",
      " 50    5 other, more, guests, than, any, hotels, during, their, many, property\n",
      "  1    5 street, across, right, away, blocks, restaurants, block, few, restaurant, starbucks\n"
     ]
    }
   ],
   "source": [
    "topic_freq = Counter(concat(subdf[subdf['overall']==5]['topics']))\n",
    "print(f'Top Freq Words')\n",
    "for t, c in topic_freq.most_common(20):\n",
    "    print(f'{t:3d} {c:4d}', ', '.join(map(first, mdl.get_topic_words(t))))"
   ]
  },
  {
   "cell_type": "markdown",
   "metadata": {},
   "source": [
    "### Report\n",
    "\n",
    "Finish this notebook by writing a brief report to the hotel managers describing what you've found in the reviews of their hotel, along with some actionable advice. Use whatever data, charts, word clouds, etc. that you think will help you make your case. "
   ]
  },
  {
   "cell_type": "markdown",
   "metadata": {},
   "source": [
    "Report for Hotel Pennsylvania, New York \n",
    "\n",
    "After analyzing 1358 one star reviews for the establishment, it has been determined that your primary issue lies with your front counter and the check in staff. The top 22 percent of your one star reviews include the terms \"worst\" and \"rude\" among other non-descriptive terms. These are the most common words in those one star reviews, but the following 22 percent include references to a \"she\" or \"lady\" at the \"front desk\" who \"checked\"(them in). The next highest frequency terms, at 13 percent of the reviews include the terms \"check\", \"arrived\", \"checked\", \"greeted\", and \"front desk\" again. These all paint the picture that the reception area should be your primary area of improvement as this is where the majority of your negative reviews are coming from. \n",
    "\n",
    "Another area for improvement should be the cleanliness of your building. Common complaints in reviews include the words \"dirty\", \"bathroom\", \"carpet\", and \"old\". Perhaps some renovations are in order. \n",
    "\n",
    "It is worth noting that the majority of your positive reviews reference the location and local sights, not your hotel. This indicates that your guests prefer to be outside of your hotel, not in their rooms."
   ]
  }
 ],
 "metadata": {
  "kernelspec": {
   "display_name": "Python 3",
   "language": "python",
   "name": "python3"
  },
  "language_info": {
   "codemirror_mode": {
    "name": "ipython",
    "version": 3
   },
   "file_extension": ".py",
   "mimetype": "text/x-python",
   "name": "python",
   "nbconvert_exporter": "python",
   "pygments_lexer": "ipython3",
   "version": "3.8.6"
  }
 },
 "nbformat": 4,
 "nbformat_minor": 4
}
